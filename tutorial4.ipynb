{
 "cells": [
  {
   "cell_type": "code",
   "execution_count": 89,
   "metadata": {
    "collapsed": true
   },
   "outputs": [],
   "source": [
    "import numpy as np\n",
    "import sympy as sym\n",
    "import matplotlib.pyplot as plt\n",
    "\n",
    "x = sym.symbols('x')"
   ]
  },
  {
   "cell_type": "code",
   "execution_count": 90,
   "outputs": [
    {
     "data": {
      "text/plain": "2*x**4 + 5/(x + 1)**2 + 3/x**3",
      "text/latex": "$\\displaystyle 2 x^{4} + \\frac{5}{\\left(x + 1\\right)^{2}} + \\frac{3}{x^{3}}$"
     },
     "execution_count": 90,
     "metadata": {},
     "output_type": "execute_result"
    }
   ],
   "source": [
    "eq = 2 * (x ** 4) + 3 / (x ** 3) + 5 / ((x + 1) ** 2)\n",
    "eq"
   ],
   "metadata": {
    "collapsed": false
   }
  },
  {
   "cell_type": "code",
   "execution_count": 91,
   "outputs": [
    {
     "data": {
      "text/plain": "x**2/2",
      "text/latex": "$\\displaystyle \\frac{x^{2}}{2}$"
     },
     "execution_count": 91,
     "metadata": {},
     "output_type": "execute_result"
    }
   ],
   "source": [
    "sym.integrate(x)"
   ],
   "metadata": {
    "collapsed": false
   }
  },
  {
   "cell_type": "code",
   "execution_count": 92,
   "outputs": [
    {
     "data": {
      "text/plain": "2*x**5/5 + (-10*x**2 - 3*x - 3)/(2*x**3 + 2*x**2)",
      "text/latex": "$\\displaystyle \\frac{2 x^{5}}{5} + \\frac{- 10 x^{2} - 3 x - 3}{2 x^{3} + 2 x^{2}}$"
     },
     "execution_count": 92,
     "metadata": {},
     "output_type": "execute_result"
    }
   ],
   "source": [
    "eq_int = sym.integrate(eq, x)\n",
    "eq_int"
   ],
   "metadata": {
    "collapsed": false
   }
  },
  {
   "cell_type": "code",
   "execution_count": 93,
   "outputs": [
    {
     "data": {
      "text/plain": "1723/120",
      "text/latex": "$\\displaystyle \\frac{1723}{120}$"
     },
     "execution_count": 93,
     "metadata": {},
     "output_type": "execute_result"
    }
   ],
   "source": [
    "eq_int.subs(x, 2) - eq_int.subs(x, 1)"
   ],
   "metadata": {
    "collapsed": false
   }
  },
  {
   "cell_type": "code",
   "execution_count": 94,
   "outputs": [
    {
     "data": {
      "text/plain": "1723/120",
      "text/latex": "$\\displaystyle \\frac{1723}{120}$"
     },
     "execution_count": 94,
     "metadata": {},
     "output_type": "execute_result"
    }
   ],
   "source": [
    "eq.integrate((x, 1, 2))"
   ],
   "metadata": {
    "collapsed": false
   }
  },
  {
   "cell_type": "code",
   "execution_count": 95,
   "outputs": [
    {
     "data": {
      "text/plain": "1723/120",
      "text/latex": "$\\displaystyle \\frac{1723}{120}$"
     },
     "execution_count": 95,
     "metadata": {},
     "output_type": "execute_result"
    }
   ],
   "source": [
    "sym.integrate(eq, (x, 1, 2))"
   ],
   "metadata": {
    "collapsed": false
   }
  },
  {
   "cell_type": "code",
   "execution_count": 96,
   "outputs": [
    {
     "data": {
      "text/plain": "exp(x)*sin(2*x)",
      "text/latex": "$\\displaystyle e^{x} \\sin{\\left(2 x \\right)}$"
     },
     "execution_count": 96,
     "metadata": {},
     "output_type": "execute_result"
    }
   ],
   "source": [
    "eq_1 = sym.exp(x) * sym.sin(2 * x)\n",
    "eq_1"
   ],
   "metadata": {
    "collapsed": false
   }
  },
  {
   "cell_type": "code",
   "execution_count": 97,
   "outputs": [
    {
     "data": {
      "text/plain": "exp(2)*sin(4)/5 - E*sin(2)/5 + 2*E*cos(2)/5 - 2*exp(2)*cos(4)/5",
      "text/latex": "$\\displaystyle \\frac{e^{2} \\sin{\\left(4 \\right)}}{5} - \\frac{e \\sin{\\left(2 \\right)}}{5} + \\frac{2 e \\cos{\\left(2 \\right)}}{5} - \\frac{2 e^{2} \\cos{\\left(4 \\right)}}{5}$"
     },
     "execution_count": 97,
     "metadata": {},
     "output_type": "execute_result"
    }
   ],
   "source": [
    "eq_1_1to2 = eq_1.integrate((x, 1, 2))\n",
    "eq_1_1to2"
   ],
   "metadata": {
    "collapsed": false
   }
  },
  {
   "cell_type": "code",
   "execution_count": 98,
   "outputs": [
    {
     "data": {
      "text/plain": "E*(E*sin(4) - sin(2) + 2*cos(2) - 2*E*cos(4))/5",
      "text/latex": "$\\displaystyle \\frac{e \\left(e \\sin{\\left(4 \\right)} - \\sin{\\left(2 \\right)} + 2 \\cos{\\left(2 \\right)} - 2 e \\cos{\\left(4 \\right)}\\right)}{5}$"
     },
     "execution_count": 98,
     "metadata": {},
     "output_type": "execute_result"
    }
   ],
   "source": [
    "eq_1_1to2.simplify()"
   ],
   "metadata": {
    "collapsed": false
   }
  },
  {
   "cell_type": "markdown",
   "source": [
    "# Numerical Eval"
   ],
   "metadata": {
    "collapsed": false
   }
  },
  {
   "cell_type": "code",
   "execution_count": 99,
   "outputs": [
    {
     "data": {
      "text/plain": "-8.0637827656458"
     },
     "execution_count": 99,
     "metadata": {},
     "output_type": "execute_result"
    }
   ],
   "source": [
    "f = sym.lambdify(x, eq_1, 'numpy')\n",
    "f(2) - f(1)"
   ],
   "metadata": {
    "collapsed": false
   }
  },
  {
   "cell_type": "code",
   "execution_count": 100,
   "outputs": [
    {
     "data": {
      "text/plain": "-8.0637827656458"
     },
     "execution_count": 100,
     "metadata": {},
     "output_type": "execute_result"
    }
   ],
   "source": [
    "f2 = sym.lambdify(x, eq_1_1to2, 'numpy')\n",
    "f(2) - f(1)"
   ],
   "metadata": {
    "collapsed": false
   }
  },
  {
   "cell_type": "code",
   "execution_count": 101,
   "outputs": [
    {
     "data": {
      "text/plain": "exp(sin(x))",
      "text/latex": "$\\displaystyle e^{\\sin{\\left(x \\right)}}$"
     },
     "execution_count": 101,
     "metadata": {},
     "output_type": "execute_result"
    }
   ],
   "source": [
    "eg1 = sym.exp(sym.sin(x))\n",
    "eg1"
   ],
   "metadata": {
    "collapsed": false
   }
  },
  {
   "cell_type": "code",
   "execution_count": 102,
   "outputs": [
    {
     "data": {
      "text/plain": "Integral(exp(sin(x)), x)",
      "text/latex": "$\\displaystyle \\int e^{\\sin{\\left(x \\right)}}\\, dx$"
     },
     "execution_count": 102,
     "metadata": {},
     "output_type": "execute_result"
    }
   ],
   "source": [
    "eg1.integrate(x)"
   ],
   "metadata": {
    "collapsed": false
   }
  },
  {
   "cell_type": "code",
   "execution_count": 103,
   "outputs": [
    {
     "data": {
      "text/plain": "Integral(exp(sin(x)), (x, 1, 2))",
      "text/latex": "$\\displaystyle \\int\\limits_{1}^{2} e^{\\sin{\\left(x \\right)}}\\, dx$"
     },
     "execution_count": 103,
     "metadata": {},
     "output_type": "execute_result"
    }
   ],
   "source": [
    "eg1.integrate((x,1,2))"
   ],
   "metadata": {
    "collapsed": false
   }
  },
  {
   "cell_type": "code",
   "execution_count": 104,
   "outputs": [
    {
     "data": {
      "text/plain": "Integral(exp(sin(x)), x)",
      "text/latex": "$\\displaystyle \\int e^{\\sin{\\left(x \\right)}}\\, dx$"
     },
     "execution_count": 104,
     "metadata": {},
     "output_type": "execute_result"
    }
   ],
   "source": [
    "sym.Integral(eg1,x)"
   ],
   "metadata": {
    "collapsed": false
   }
  },
  {
   "cell_type": "markdown",
   "source": [
    "# Plotting"
   ],
   "metadata": {
    "collapsed": false
   }
  },
  {
   "cell_type": "code",
   "execution_count": 105,
   "outputs": [
    {
     "data": {
      "text/plain": "sin(x**2 + 3*x) - cos(3*x)",
      "text/latex": "$\\displaystyle \\sin{\\left(x^{2} + 3 x \\right)} - \\cos{\\left(3 x \\right)}$"
     },
     "execution_count": 105,
     "metadata": {},
     "output_type": "execute_result"
    }
   ],
   "source": [
    "eqn2 = sym.sin(x ** 2 + 3 * x) - sym.cos(3 * x)\n",
    "eqn2"
   ],
   "metadata": {
    "collapsed": false
   }
  },
  {
   "cell_type": "code",
   "execution_count": 106,
   "outputs": [
    {
     "data": {
      "text/plain": "sqrt(2)*sqrt(pi)*(-sin(9/4)*fresnelc(sqrt(2)*(2*x + 3)/(2*sqrt(pi))) + cos(9/4)*fresnels(sqrt(2)*(2*x + 3)/(2*sqrt(pi))))/2 - sin(3*x)/3",
      "text/latex": "$\\displaystyle \\frac{\\sqrt{2} \\sqrt{\\pi} \\left(- \\sin{\\left(\\frac{9}{4} \\right)} C\\left(\\frac{\\sqrt{2} \\cdot \\left(2 x + 3\\right)}{2 \\sqrt{\\pi}}\\right) + \\cos{\\left(\\frac{9}{4} \\right)} S\\left(\\frac{\\sqrt{2} \\cdot \\left(2 x + 3\\right)}{2 \\sqrt{\\pi}}\\right)\\right)}{2} - \\frac{\\sin{\\left(3 x \\right)}}{3}$"
     },
     "execution_count": 106,
     "metadata": {},
     "output_type": "execute_result"
    }
   ],
   "source": [
    "eqn2I = eqn2.integrate(x)\n",
    "eqn2I"
   ],
   "metadata": {
    "collapsed": false
   }
  },
  {
   "cell_type": "code",
   "execution_count": 107,
   "outputs": [],
   "source": [
    "eqn2I_lmb = sym.lambdify(x, eqn2I)"
   ],
   "metadata": {
    "collapsed": false
   }
  },
  {
   "cell_type": "code",
   "execution_count": 111,
   "outputs": [
    {
     "data": {
      "text/plain": "array([-3.14159265, -3.11001886, -3.07844506, -3.04687127, -3.01529747,\n       -2.98372368, -2.95214988, -2.92057608, -2.88900229, -2.85742849,\n       -2.8258547 , -2.7942809 , -2.76270711, -2.73113331, -2.69955952,\n       -2.66798572, -2.63641193, -2.60483813, -2.57326433, -2.54169054,\n       -2.51011674, -2.47854295, -2.44696915, -2.41539536, -2.38382156,\n       -2.35224777, -2.32067397, -2.28910017, -2.25752638, -2.22595258,\n       -2.19437879, -2.16280499, -2.1312312 , -2.0996574 , -2.06808361,\n       -2.03650981, -2.00493602, -1.97336222, -1.94178842, -1.91021463,\n       -1.87864083, -1.84706704, -1.81549324, -1.78391945, -1.75234565,\n       -1.72077186, -1.68919806, -1.65762426, -1.62605047, -1.59447667,\n       -1.56290288, -1.53132908, -1.49975529, -1.46818149, -1.4366077 ,\n       -1.4050339 , -1.3734601 , -1.34188631, -1.31031251, -1.27873872,\n       -1.24716492, -1.21559113, -1.18401733, -1.15244354, -1.12086974,\n       -1.08929595, -1.05772215, -1.02614835, -0.99457456, -0.96300076,\n       -0.93142697, -0.89985317, -0.86827938, -0.83670558, -0.80513179,\n       -0.77355799, -0.74198419, -0.7104104 , -0.6788366 , -0.64726281,\n       -0.61568901, -0.58411522, -0.55254142, -0.52096763, -0.48939383,\n       -0.45782003, -0.42624624, -0.39467244, -0.36309865, -0.33152485,\n       -0.29995106, -0.26837726, -0.23680347, -0.20522967, -0.17365588,\n       -0.14208208, -0.11050828, -0.07893449, -0.04736069, -0.0157869 ,\n        0.0157869 ,  0.04736069,  0.07893449,  0.11050828,  0.14208208,\n        0.17365588,  0.20522967,  0.23680347,  0.26837726,  0.29995106,\n        0.33152485,  0.36309865,  0.39467244,  0.42624624,  0.45782003,\n        0.48939383,  0.52096763,  0.55254142,  0.58411522,  0.61568901,\n        0.64726281,  0.6788366 ,  0.7104104 ,  0.74198419,  0.77355799,\n        0.80513179,  0.83670558,  0.86827938,  0.89985317,  0.93142697,\n        0.96300076,  0.99457456,  1.02614835,  1.05772215,  1.08929595,\n        1.12086974,  1.15244354,  1.18401733,  1.21559113,  1.24716492,\n        1.27873872,  1.31031251,  1.34188631,  1.3734601 ,  1.4050339 ,\n        1.4366077 ,  1.46818149,  1.49975529,  1.53132908,  1.56290288,\n        1.59447667,  1.62605047,  1.65762426,  1.68919806,  1.72077186,\n        1.75234565,  1.78391945,  1.81549324,  1.84706704,  1.87864083,\n        1.91021463,  1.94178842,  1.97336222,  2.00493602,  2.03650981,\n        2.06808361,  2.0996574 ,  2.1312312 ,  2.16280499,  2.19437879,\n        2.22595258,  2.25752638,  2.28910017,  2.32067397,  2.35224777,\n        2.38382156,  2.41539536,  2.44696915,  2.47854295,  2.51011674,\n        2.54169054,  2.57326433,  2.60483813,  2.63641193,  2.66798572,\n        2.69955952,  2.73113331,  2.76270711,  2.7942809 ,  2.8258547 ,\n        2.85742849,  2.88900229,  2.92057608,  2.95214988,  2.98372368,\n        3.01529747,  3.04687127,  3.07844506,  3.11001886,  3.14159265])"
     },
     "execution_count": 111,
     "metadata": {},
     "output_type": "execute_result"
    }
   ],
   "source": [
    "x_vals = np.linspace(-np.pi, np.pi, 200)\n",
    "x_vals"
   ],
   "metadata": {
    "collapsed": false
   }
  },
  {
   "cell_type": "code",
   "execution_count": 112,
   "outputs": [],
   "source": [
    "y_vals = eqn2I_lmb(x_vals)"
   ],
   "metadata": {
    "collapsed": false
   }
  },
  {
   "cell_type": "code",
   "execution_count": 114,
   "outputs": [
    {
     "data": {
      "text/plain": "<Figure size 640x480 with 1 Axes>",
      "image/png": "[encoded data removed]"
     },
     "metadata": {},
     "output_type": "display_data"
    }
   ],
   "source": [
    "plt.plot(y_vals,x_vals)\n",
    "plt.show()"
   ],
   "metadata": {
    "collapsed": false
   }
  },
  {
   "cell_type": "code",
   "execution_count": 110,
   "outputs": [],
   "source": [],
   "metadata": {
    "collapsed": false
   }
  }
 ],
 "metadata": {
  "kernelspec": {
   "display_name": "Python 3",
   "language": "python",
   "name": "python3"
  },
  "language_info": {
   "codemirror_mode": {
    "name": "ipython",
    "version": 2
   },
   "file_extension": ".py",
   "mimetype": "text/x-python",
   "name": "python",
   "nbconvert_exporter": "python",
   "pygments_lexer": "ipython2",
   "version": "2.7.6"
  }
 },
 "nbformat": 4,
 "nbformat_minor": 0
}
