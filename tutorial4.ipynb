{
 "cells": [
  {
   "cell_type": "code",
   "execution_count": 43,
   "metadata": {
    "collapsed": true
   },
   "outputs": [],
   "source": [
    "import sympy as sym\n",
    "\n",
    "x = sym.symbols('x')"
   ]
  },
  {
   "cell_type": "code",
   "execution_count": 44,
   "outputs": [
    {
     "data": {
      "text/plain": "2*x**4 + 5/(x + 1)**2 + 3/x**3",
      "text/latex": "$\\displaystyle 2 x^{4} + \\frac{5}{\\left(x + 1\\right)^{2}} + \\frac{3}{x^{3}}$"
     },
     "execution_count": 44,
     "metadata": {},
     "output_type": "execute_result"
    }
   ],
   "source": [
    "eq = 2 * (x ** 4) + 3 / (x ** 3) + 5 / ((x + 1) ** 2)\n",
    "eq"
   ],
   "metadata": {
    "collapsed": false
   }
  },
  {
   "cell_type": "code",
   "execution_count": 45,
   "outputs": [
    {
     "data": {
      "text/plain": "x**2/2",
      "text/latex": "$\\displaystyle \\frac{x^{2}}{2}$"
     },
     "execution_count": 45,
     "metadata": {},
     "output_type": "execute_result"
    }
   ],
   "source": [
    "sym.integrate(x)"
   ],
   "metadata": {
    "collapsed": false
   }
  },
  {
   "cell_type": "code",
   "execution_count": 46,
   "outputs": [
    {
     "data": {
      "text/plain": "2*x**5/5 + (-10*x**2 - 3*x - 3)/(2*x**3 + 2*x**2)",
      "text/latex": "$\\displaystyle \\frac{2 x^{5}}{5} + \\frac{- 10 x^{2} - 3 x - 3}{2 x^{3} + 2 x^{2}}$"
     },
     "execution_count": 46,
     "metadata": {},
     "output_type": "execute_result"
    }
   ],
   "source": [
    "eq_int = sym.integrate(eq, x)\n",
    "eq_int"
   ],
   "metadata": {
    "collapsed": false
   }
  },
  {
   "cell_type": "code",
   "execution_count": 47,
   "outputs": [
    {
     "data": {
      "text/plain": "1723/120",
      "text/latex": "$\\displaystyle \\frac{1723}{120}$"
     },
     "execution_count": 47,
     "metadata": {},
     "output_type": "execute_result"
    }
   ],
   "source": [
    "eq_int.subs(x, 2) - eq_int.subs(x, 1)"
   ],
   "metadata": {
    "collapsed": false
   }
  },
  {
   "cell_type": "code",
   "execution_count": 48,
   "outputs": [
    {
     "data": {
      "text/plain": "1723/120",
      "text/latex": "$\\displaystyle \\frac{1723}{120}$"
     },
     "execution_count": 48,
     "metadata": {},
     "output_type": "execute_result"
    }
   ],
   "source": [
    "eq.integrate((x, 1, 2))"
   ],
   "metadata": {
    "collapsed": false
   }
  },
  {
   "cell_type": "code",
   "execution_count": 49,
   "outputs": [
    {
     "data": {
      "text/plain": "1723/120",
      "text/latex": "$\\displaystyle \\frac{1723}{120}$"
     },
     "execution_count": 49,
     "metadata": {},
     "output_type": "execute_result"
    }
   ],
   "source": [
    "sym.integrate(eq, (x, 1, 2))"
   ],
   "metadata": {
    "collapsed": false
   }
  },
  {
   "cell_type": "code",
   "execution_count": 50,
   "outputs": [
    {
     "data": {
      "text/plain": "exp(x)*sin(2*x)",
      "text/latex": "$\\displaystyle e^{x} \\sin{\\left(2 x \\right)}$"
     },
     "execution_count": 50,
     "metadata": {},
     "output_type": "execute_result"
    }
   ],
   "source": [
    "eq_1 = sym.exp(x) * sym.sin(2 * x)\n",
    "eq_1"
   ],
   "metadata": {
    "collapsed": false
   }
  },
  {
   "cell_type": "code",
   "execution_count": 51,
   "outputs": [
    {
     "data": {
      "text/plain": "exp(2)*sin(4)/5 - E*sin(2)/5 + 2*E*cos(2)/5 - 2*exp(2)*cos(4)/5",
      "text/latex": "$\\displaystyle \\frac{e^{2} \\sin{\\left(4 \\right)}}{5} - \\frac{e \\sin{\\left(2 \\right)}}{5} + \\frac{2 e \\cos{\\left(2 \\right)}}{5} - \\frac{2 e^{2} \\cos{\\left(4 \\right)}}{5}$"
     },
     "execution_count": 51,
     "metadata": {},
     "output_type": "execute_result"
    }
   ],
   "source": [
    "eq_1_1to2 = eq_1.integrate((x, 1, 2))\n",
    "eq_1_1to2"
   ],
   "metadata": {
    "collapsed": false
   }
  },
  {
   "cell_type": "code",
   "execution_count": 52,
   "outputs": [
    {
     "data": {
      "text/plain": "E*(E*sin(4) - sin(2) + 2*cos(2) - 2*E*cos(4))/5",
      "text/latex": "$\\displaystyle \\frac{e \\left(e \\sin{\\left(4 \\right)} - \\sin{\\left(2 \\right)} + 2 \\cos{\\left(2 \\right)} - 2 e \\cos{\\left(4 \\right)}\\right)}{5}$"
     },
     "execution_count": 52,
     "metadata": {},
     "output_type": "execute_result"
    }
   ],
   "source": [
    "eq_1_1to2.simplify()"
   ],
   "metadata": {
    "collapsed": false
   }
  },
  {
   "cell_type": "markdown",
   "source": [
    "# Numerical Eval"
   ],
   "metadata": {
    "collapsed": false
   }
  },
  {
   "cell_type": "code",
   "execution_count": 53,
   "outputs": [
    {
     "data": {
      "text/plain": "-8.0637827656458"
     },
     "execution_count": 53,
     "metadata": {},
     "output_type": "execute_result"
    }
   ],
   "source": [
    "f = sym.lambdify(x, eq_1, 'numpy')\n",
    "f(2) - f(1)"
   ],
   "metadata": {
    "collapsed": false
   }
  },
  {
   "cell_type": "code",
   "execution_count": 54,
   "outputs": [
    {
     "data": {
      "text/plain": "-8.0637827656458"
     },
     "execution_count": 54,
     "metadata": {},
     "output_type": "execute_result"
    }
   ],
   "source": [
    "f2 = sym.lambdify(x, eq_1_1to2, 'numpy')\n",
    "f(2) - f(1)"
   ],
   "metadata": {
    "collapsed": false
   }
  },
  {
   "cell_type": "code",
   "execution_count": 55,
   "outputs": [
    {
     "data": {
      "text/plain": "exp(sin(x))",
      "text/latex": "$\\displaystyle e^{\\sin{\\left(x \\right)}}$"
     },
     "execution_count": 55,
     "metadata": {},
     "output_type": "execute_result"
    }
   ],
   "source": [
    "eg1 = sym.exp(sym.sin(x))\n",
    "eg1"
   ],
   "metadata": {
    "collapsed": false
   }
  },
  {
   "cell_type": "code",
   "execution_count": 56,
   "outputs": [
    {
     "data": {
      "text/plain": "Integral(exp(sin(x)), x)",
      "text/latex": "$\\displaystyle \\int e^{\\sin{\\left(x \\right)}}\\, dx$"
     },
     "execution_count": 56,
     "metadata": {},
     "output_type": "execute_result"
    }
   ],
   "source": [
    "eg1.integrate(x)"
   ],
   "metadata": {
    "collapsed": false
   }
  },
  {
   "cell_type": "code",
   "execution_count": 57,
   "outputs": [
    {
     "data": {
      "text/plain": "Integral(exp(sin(x)), (x, 1, 2))",
      "text/latex": "$\\displaystyle \\int\\limits_{1}^{2} e^{\\sin{\\left(x \\right)}}\\, dx$"
     },
     "execution_count": 57,
     "metadata": {},
     "output_type": "execute_result"
    }
   ],
   "source": [
    "eg1.integrate((x,1,2))"
   ],
   "metadata": {
    "collapsed": false
   }
  },
  {
   "cell_type": "code",
   "execution_count": 58,
   "outputs": [
    {
     "data": {
      "text/plain": "Integral(exp(sin(x)), x)",
      "text/latex": "$\\displaystyle \\int e^{\\sin{\\left(x \\right)}}\\, dx$"
     },
     "execution_count": 58,
     "metadata": {},
     "output_type": "execute_result"
    }
   ],
   "source": [
    "sym.Integral(eg1,x)"
   ],
   "metadata": {
    "collapsed": false
   }
  },
  {
   "cell_type": "code",
   "execution_count": 59,
   "outputs": [
    {
     "data": {
      "text/plain": "sin(x**2 + 3*x) - cos(3*x)",
      "text/latex": "$\\displaystyle \\sin{\\left(x^{2} + 3 x \\right)} - \\cos{\\left(3 x \\right)}$"
     },
     "execution_count": 59,
     "metadata": {},
     "output_type": "execute_result"
    }
   ],
   "source": [
    "eqNotWorking2 = sym.sin(x**2 + 3*x) - sym.cos(3*x)\n",
    "eqNotWorking2"
   ],
   "metadata": {
    "collapsed": false
   }
  },
  {
   "cell_type": "code",
   "execution_count": 60,
   "outputs": [
    {
     "data": {
      "text/plain": "sqrt(2)*sqrt(pi)*(-sin(9/4)*fresnelc(sqrt(2)*(2*x + 3)/(2*sqrt(pi))) + cos(9/4)*fresnels(sqrt(2)*(2*x + 3)/(2*sqrt(pi))))/2 - sin(3*x)/3",
      "text/latex": "$\\displaystyle \\frac{\\sqrt{2} \\sqrt{\\pi} \\left(- \\sin{\\left(\\frac{9}{4} \\right)} C\\left(\\frac{\\sqrt{2} \\cdot \\left(2 x + 3\\right)}{2 \\sqrt{\\pi}}\\right) + \\cos{\\left(\\frac{9}{4} \\right)} S\\left(\\frac{\\sqrt{2} \\cdot \\left(2 x + 3\\right)}{2 \\sqrt{\\pi}}\\right)\\right)}{2} - \\frac{\\sin{\\left(3 x \\right)}}{3}$"
     },
     "execution_count": 60,
     "metadata": {},
     "output_type": "execute_result"
    }
   ],
   "source": [
    "eqNotWorking2I = eqNotWorking2.integrate(x)\n",
    "eqNotWorking2I"
   ],
   "metadata": {
    "collapsed": false
   }
  },
  {
   "cell_type": "code",
   "execution_count": 60,
   "outputs": [],
   "source": [],
   "metadata": {
    "collapsed": false
   }
  }
 ],
 "metadata": {
  "kernelspec": {
   "display_name": "Python 3",
   "language": "python",
   "name": "python3"
  },
  "language_info": {
   "codemirror_mode": {
    "name": "ipython",
    "version": 2
   },
   "file_extension": ".py",
   "mimetype": "text/x-python",
   "name": "python",
   "nbconvert_exporter": "python",
   "pygments_lexer": "ipython2",
   "version": "2.7.6"
  }
 },
 "nbformat": 4,
 "nbformat_minor": 0
}
