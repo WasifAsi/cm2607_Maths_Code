{
 "cells": [
  {
   "cell_type": "code",
   "execution_count": 16,
   "metadata": {
    "collapsed": true
   },
   "outputs": [],
   "source": [
    "import matplotlib.pyplot as plt\n",
    "import numpy as np\n",
    "import sympy as sym"
   ]
  },
  {
   "cell_type": "code",
   "execution_count": 17,
   "outputs": [],
   "source": [
    "x = sym.symbols('x')\n",
    "n = sym.symbols('n', integer=True, positive=True)\n",
    "\n",
    "ms = np.empty(100, dtype=object)\n",
    "xrange = np.linspace(3 * np.pi, -3 * np.pi, 1000)\n",
    "y = np.zeros([101, 1000])"
   ],
   "metadata": {
    "collapsed": false
   }
  },
  {
   "cell_type": "code",
   "execution_count": 18,
   "outputs": [
    {
     "data": {
      "text/plain": "x**2",
      "text/latex": "$\\displaystyle x^{2}$"
     },
     "execution_count": 18,
     "metadata": {},
     "output_type": "execute_result"
    }
   ],
   "source": [
    "eq = x ** 2\n",
    "eq"
   ],
   "metadata": {
    "collapsed": false
   }
  },
  {
   "cell_type": "code",
   "execution_count": 19,
   "outputs": [
    {
     "data": {
      "text/plain": "pi**2/6",
      "text/latex": "$\\displaystyle \\frac{\\pi^{2}}{6}$"
     },
     "execution_count": 19,
     "metadata": {},
     "output_type": "execute_result"
    }
   ],
   "source": [
    "a0 = (1 / (2 * sym.pi)) * eq.integrate((x, 0, sym.pi))\n",
    "a0"
   ],
   "metadata": {
    "collapsed": false
   }
  },
  {
   "cell_type": "code",
   "execution_count": 20,
   "outputs": [
    {
     "data": {
      "text/plain": "2*(-1)**n/n**2",
      "text/latex": "$\\displaystyle \\frac{2 \\left(-1\\right)^{n}}{n^{2}}$"
     },
     "execution_count": 20,
     "metadata": {},
     "output_type": "execute_result"
    }
   ],
   "source": [
    "an = (1 / sym.pi) * sym.integrate((eq * sym.cos(n * x)), (x, 0, sym.pi))\n",
    "an"
   ],
   "metadata": {
    "collapsed": false
   }
  },
  {
   "cell_type": "code",
   "execution_count": 21,
   "outputs": [
    {
     "data": {
      "text/plain": "(-(-1)**n*pi**2/n + 2*(-1)**n/n**3 - 2/n**3)/pi",
      "text/latex": "$\\displaystyle \\frac{- \\frac{\\left(-1\\right)^{n} \\pi^{2}}{n} + \\frac{2 \\left(-1\\right)^{n}}{n^{3}} - \\frac{2}{n^{3}}}{\\pi}$"
     },
     "execution_count": 21,
     "metadata": {},
     "output_type": "execute_result"
    }
   ],
   "source": [
    "bn = (1 / sym.pi) * sym.integrate((eq * sym.sin(n * x)), (x, 0, sym.pi))\n",
    "bn"
   ],
   "metadata": {
    "collapsed": false
   }
  },
  {
   "cell_type": "code",
   "execution_count": 22,
   "outputs": [],
   "source": [
    "ms[0] = a0\n",
    "\n",
    "f = sym.lambdify(x, ms[0], 'numpy')\n",
    "y[0, :] = f(xrange)"
   ],
   "metadata": {
    "collapsed": false
   }
  },
  {
   "cell_type": "markdown",
   "source": [
    "# Calc. fourier series coefficients"
   ],
   "metadata": {
    "collapsed": false
   }
  },
  {
   "cell_type": "code",
   "execution_count": 23,
   "outputs": [],
   "source": [
    "for m in range(1, 100):\n",
    "    ms[m] = ms[m - 1] + an.subs(n, m) * sym.cos(m * x) + bn.subs(n, m) * sym.sin(m * x)\n",
    "    f = sym.lambdify(x, ms[m], 'numpy')\n",
    "    y[m, :] = f(xrange)"
   ],
   "metadata": {
    "collapsed": false
   }
  },
  {
   "cell_type": "code",
   "execution_count": 28,
   "outputs": [
    {
     "data": {
      "text/plain": "(-4 + pi**2)*sin(x)/pi - 2*cos(x) + pi**2/6",
      "text/latex": "$\\displaystyle \\frac{\\left(-4 + \\pi^{2}\\right) \\sin{\\left(x \\right)}}{\\pi} - 2 \\cos{\\left(x \\right)} + \\frac{\\pi^{2}}{6}$"
     },
     "execution_count": 28,
     "metadata": {},
     "output_type": "execute_result"
    }
   ],
   "source": [
    "ms[1]"
   ],
   "metadata": {
    "collapsed": false
   }
  },
  {
   "cell_type": "markdown",
   "source": [
    "# Piecewise plotting"
   ],
   "metadata": {
    "collapsed": false
   }
  },
  {
   "cell_type": "code",
   "execution_count": null,
   "outputs": [],
   "source": [
    "for m in range(0, 1000):\n",
    "    if 0 < xrange[m] < np.pi:\n",
    "        y[100, m] = xrange[m] ** 2\n",
    "    elif 2 * np.pi < xrange[m] <= 3 * np.pi:\n",
    "        y[100, m] = (xrange[m] - 2 * np.pi) ** 2\n",
    "    elif -2 * np.pi < xrange[m] <= np.pi:\n",
    "        y[100, m] = (xrange[m] + 2 * np.pi) ** 2\n",
    "\n",
    "plt.plot(xrange, y[4, :])\n",
    "plt.plot(xrange, y[9, :])\n",
    "plt.plot(xrange, y[99, :])\n",
    "plt.plot(xrange, y[100, :])\n",
    "\n",
    "plt.legend([\"5\", \"10\", \"100\", \"func\"])\n",
    "plt.show()"
   ],
   "metadata": {
    "collapsed": false
   }
  }
 ],
 "metadata": {
  "kernelspec": {
   "display_name": "Python 3",
   "language": "python",
   "name": "python3"
  },
  "language_info": {
   "codemirror_mode": {
    "name": "ipython",
    "version": 2
   },
   "file_extension": ".py",
   "mimetype": "text/x-python",
   "name": "python",
   "nbconvert_exporter": "python",
   "pygments_lexer": "ipython2",
   "version": "2.7.6"
  }
 },
 "nbformat": 4,
 "nbformat_minor": 0
}
