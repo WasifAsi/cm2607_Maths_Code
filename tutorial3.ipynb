{
 "cells": [
  {
   "cell_type": "code",
   "execution_count": 9,
   "metadata": {
    "collapsed": true
   },
   "outputs": [
    {
     "data": {
      "text/plain": "2*x*y + 2*x + 3*y",
      "text/latex": "$\\displaystyle 2 x y + 2 x + 3 y$"
     },
     "execution_count": 9,
     "metadata": {},
     "output_type": "execute_result"
    }
   ],
   "source": [
    "# Calculating partial derivatives works like regular differentiation.\n",
    "import sympy as sym\n",
    "x,y = sym.symbols('x, y')\n",
    "eq = x*2 + 2*x*y + y*3\n",
    "eq"
   ]
  },
  {
   "cell_type": "code",
   "execution_count": 10,
   "outputs": [
    {
     "name": "stdout",
     "output_type": "stream",
     "text": [
      "differentiation by x: 2*y + 2\n",
      "differentiation by y: 2*x + 3\n",
      "differentiation by x, then y: 2\n",
      "differentiation by y, then x: 2\n",
      "differentiation by x twice, then y: 16*(-1/y**3 + 3*y**3/x**5)\n",
      "differentiation by y twice, x twice: 48*(y**(-4) + 3*y**2/x**5)\n"
     ]
    }
   ],
   "source": [
    "print(\"differentiation by x:\",sym.diff(eq,x))\n",
    "print(\"differentiation by y:\",sym.diff(eq,y))\n",
    "print(\"differentiation by x, then y:\",sym.diff(eq,x,y))\n",
    "print(\"differentiation by y, then x:\",sym.diff(eq,y,x))\n",
    "# You can also apply partial differentiation repeatedly:\n",
    "eq = x**3 + (x**-3)*(y**4) + 4*(y**-2)*(x**2)\n",
    "print(\"differentiation by x twice, then y:\",sym.diff(eq,x,2,y))\n",
    "print(\"differentiation by y twice, x twice:\",sym.diff(eq,y,2,x,2))"
   ],
   "metadata": {
    "collapsed": false
   }
  },
  {
   "cell_type": "markdown",
   "source": [
    "## Trigonometric and logarithmic functions:\n",
    "\n",
    "These functions are straightforward. However, you have to be careful to use the sympy versions of these\n",
    "functions.\n",
    "Example:"
   ],
   "metadata": {
    "collapsed": false
   }
  },
  {
   "cell_type": "code",
   "execution_count": null,
   "outputs": [],
   "source": [
    "eq = sym.sin(x)\n",
    "print(eq.subs(x,sym.pi/2))\n",
    "print(eq.subs(x,-sym.pi/2))"
   ],
   "metadata": {
    "collapsed": false
   }
  },
  {
   "cell_type": "markdown",
   "source": [
    "## Some other available trigonometric functions:"
   ],
   "metadata": {
    "collapsed": false
   }
  },
  {
   "cell_type": "code",
   "execution_count": null,
   "outputs": [],
   "source": [
    "sym.cos(x)\n",
    "sym.tan(x)\n",
    "sym.sec(x)\n",
    "sym.csc(x)\n",
    "sym.cot(x)"
   ],
   "metadata": {
    "collapsed": false
   }
  },
  {
   "cell_type": "markdown",
   "source": [
    "For the inverse function, append an ‘a’ in front of the function’s name. Example:"
   ],
   "metadata": {
    "collapsed": false
   }
  },
  {
   "cell_type": "code",
   "execution_count": null,
   "outputs": [],
   "source": [
    "sym.asin(x)"
   ],
   "metadata": {
    "collapsed": false
   }
  }
 ],
 "metadata": {
  "kernelspec": {
   "display_name": "Python 3",
   "language": "python",
   "name": "python3"
  },
  "language_info": {
   "codemirror_mode": {
    "name": "ipython",
    "version": 2
   },
   "file_extension": ".py",
   "mimetype": "text/x-python",
   "name": "python",
   "nbconvert_exporter": "python",
   "pygments_lexer": "ipython2",
   "version": "2.7.6"
  }
 },
 "nbformat": 4,
 "nbformat_minor": 0
}
