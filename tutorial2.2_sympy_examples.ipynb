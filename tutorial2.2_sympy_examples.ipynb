{
 "cells": [
  {
   "cell_type": "markdown",
   "metadata": {},
   "source": [
    "# SymPy Examples"
   ]
  },
  {
   "cell_type": "markdown",
   "metadata": {},
   "source": [
    "This example is related to the article [*Computer Algebra with Jupyter and SymPy*](https://jaantollander.com/post/computer-algebra-with-sympy-and-jupyter/). It contains a showcase of the essential features of SymPy. The Sympy webpage contains the full list of [features](https://www.sympy.org/en/features.html) and [documentation](https://docs.sympy.org/latest/index.html)."
   ]
  },
  {
   "cell_type": "markdown",
   "metadata": {},
   "source": [
    "## Imports and Printing"
   ]
  },
  {
   "cell_type": "markdown",
   "metadata": {},
   "source": [
    "Import SymPy and initialize the printing of SymPy expressions with MathJax."
   ]
  },
  {
   "cell_type": "code",
   "execution_count": 102,
   "metadata": {},
   "outputs": [],
   "source": [
    "import sympy as sym\n",
    "# init_printing(\"mathjax\") # sympy expression printing"
   ]
  },
  {
   "cell_type": "markdown",
   "metadata": {},
   "source": [
    "Import SymEngine and initialize the printing of SymEngine expressions with MathJax. SymEngine is a fast symbolic manipulation library written in C++ instead of Python. SymEngine has Python wrappers that integrate with Sympy, although Symengine does not yet support all of SymPy's functionality. We can override some SymPy functions with SymEngine variants for improved performance.  It is wise to import only computationally critical functions."
   ]
  },
  {
   "cell_type": "code",
   "execution_count": 71,
   "metadata": {},
   "outputs": [],
   "source": [
    "# from symengine import *  # overrides some sympy functions\n",
    "# init_printing(\"mathjax\") # symengine expression printing"
   ]
  },
  {
   "cell_type": "markdown",
   "metadata": {},
   "source": [
    "## Define Symbols and Functions"
   ]
  },
  {
   "cell_type": "markdown",
   "metadata": {},
   "source": [
    "`symbols`, `Symbol`, `Function`, `sympify`, `S`"
   ]
  },
  {
   "cell_type": "code",
   "execution_count": 72,
   "metadata": {},
   "outputs": [],
   "source": [
    "x = sym.symbols(\"x\")\n",
    "a, b, c = sym.symbols(\"a,b,c\", real=True)\n",
    "i, j, n = sym.symbols(\"i,j,n\", integer=True)\n",
    "f = sym.symbols(\"f\", cls=sym.Function)"
   ]
  },
  {
   "cell_type": "code",
   "execution_count": 73,
   "metadata": {},
   "outputs": [
    {
     "data": {
      "text/plain": "(1, 1)",
      "image/png": "[encoded data removed]",
      "text/latex": "$\\displaystyle \\left( 1, \\  1\\right)$"
     },
     "execution_count": 73,
     "metadata": {},
     "output_type": "execute_result"
    }
   ],
   "source": [
    "sym.sympify(1), sym.S(1)"
   ]
  },
  {
   "cell_type": "code",
   "execution_count": 74,
   "metadata": {},
   "outputs": [
    {
     "data": {
      "text/plain": "ⅈ",
      "image/png": "[encoded data removed]",
      "text/latex": "$\\displaystyle i$"
     },
     "execution_count": 74,
     "metadata": {},
     "output_type": "execute_result"
    }
   ],
   "source": [
    "sym.I  # imaginary unit"
   ]
  },
  {
   "cell_type": "markdown",
   "metadata": {},
   "source": [
    "## Notations"
   ]
  },
  {
   "cell_type": "markdown",
   "metadata": {},
   "source": [
    "`Rational`, `Sum`, `Product`, `I`"
   ]
  },
  {
   "cell_type": "code",
   "execution_count": 75,
   "metadata": {},
   "outputs": [
    {
     "data": {
      "text/plain": "1/2",
      "image/png": "[encoded data removed]",
      "text/latex": "$\\displaystyle \\frac{1}{2}$"
     },
     "execution_count": 75,
     "metadata": {},
     "output_type": "execute_result"
    }
   ],
   "source": [
    "sym.Rational(1, 2)"
   ]
  },
  {
   "cell_type": "code",
   "execution_count": 76,
   "metadata": {},
   "outputs": [
    {
     "data": {
      "text/plain": "  n     \n ___    \n ╲      \n  ╲    i\n  ╱   x \n ╱      \n ‾‾‾    \ni = 1   ",
      "image/png": "[encoded data removed]",
      "text/latex": "$\\displaystyle \\sum_{i=1}^{n} x^{i}$"
     },
     "execution_count": 76,
     "metadata": {},
     "output_type": "execute_result"
    }
   ],
   "source": [
    "sym.Sum(x ** i, (i, 1, n))"
   ]
  },
  {
   "cell_type": "code",
   "execution_count": 77,
   "metadata": {},
   "outputs": [
    {
     "data": {
      "text/plain": "  n        \n─┬─┬─      \n │ │  i + x\n │ │       \ni = 1      ",
      "image/png": "[encoded data removed]",
      "text/latex": "$\\displaystyle \\prod_{i=1}^{n} \\left(i + x\\right)$"
     },
     "execution_count": 77,
     "metadata": {},
     "output_type": "execute_result"
    }
   ],
   "source": [
    "sym.Product(x + i, (i, 1, n))"
   ]
  },
  {
   "cell_type": "markdown",
   "metadata": {},
   "source": [
    "## Evaluate Expressions Numerically"
   ]
  },
  {
   "cell_type": "markdown",
   "metadata": {},
   "source": [
    "`N`"
   ]
  },
  {
   "cell_type": "code",
   "execution_count": 78,
   "metadata": {},
   "outputs": [
    {
     "data": {
      "text/plain": " 5\nℯ ",
      "image/png": "[encoded data removed]",
      "text/latex": "$\\displaystyle e^{5}$"
     },
     "execution_count": 78,
     "metadata": {},
     "output_type": "execute_result"
    }
   ],
   "source": [
    "sym.exp(5)"
   ]
  },
  {
   "cell_type": "code",
   "execution_count": 79,
   "metadata": {},
   "outputs": [
    {
     "data": {
      "text/plain": "148.41",
      "image/png": "[encoded data removed]",
      "text/latex": "$\\displaystyle 148.41$"
     },
     "execution_count": 79,
     "metadata": {},
     "output_type": "execute_result"
    }
   ],
   "source": [
    "sym.N(_, 5)"
   ]
  },
  {
   "cell_type": "markdown",
   "metadata": {},
   "source": [
    "## Manipulate Expressions"
   ]
  },
  {
   "cell_type": "markdown",
   "metadata": {},
   "source": [
    "`expand`, `collect`, `factor`, `simplify`, `.subs`, `.doit`"
   ]
  },
  {
   "cell_type": "code",
   "execution_count": 80,
   "metadata": {},
   "outputs": [
    {
     "data": {
      "text/plain": "(-a + x)⋅(-b + x)",
      "image/png": "[encoded data removed]",
      "text/latex": "$\\displaystyle \\left(- a + x\\right) \\left(- b + x\\right)$"
     },
     "execution_count": 80,
     "metadata": {},
     "output_type": "execute_result"
    }
   ],
   "source": [
    "(x - a) * (x - b)"
   ]
  },
  {
   "cell_type": "code",
   "execution_count": 81,
   "metadata": {},
   "outputs": [
    {
     "data": {
      "text/plain": "                   2\na⋅b - a⋅x - b⋅x + x ",
      "image/png": "[encoded data removed]",
      "text/latex": "$\\displaystyle a b - a x - b x + x^{2}$"
     },
     "execution_count": 81,
     "metadata": {},
     "output_type": "execute_result"
    }
   ],
   "source": [
    "sym.expand(_)"
   ]
  },
  {
   "cell_type": "code",
   "execution_count": 82,
   "metadata": {},
   "outputs": [
    {
     "data": {
      "text/plain": "                   2\na⋅(b - x) - b⋅x + x ",
      "image/png": "[encoded data removed]",
      "text/latex": "$\\displaystyle a \\left(b - x\\right) - b x + x^{2}$"
     },
     "execution_count": 82,
     "metadata": {},
     "output_type": "execute_result"
    }
   ],
   "source": [
    "sym.collect(_, a)"
   ]
  },
  {
   "cell_type": "code",
   "execution_count": 83,
   "metadata": {},
   "outputs": [
    {
     "data": {
      "text/plain": "(-a + x)⋅(-b + x)",
      "image/png": "[encoded data removed]",
      "text/latex": "$\\displaystyle \\left(- a + x\\right) \\left(- b + x\\right)$"
     },
     "execution_count": 83,
     "metadata": {},
     "output_type": "execute_result"
    }
   ],
   "source": [
    "sym.factor(_)"
   ]
  },
  {
   "cell_type": "code",
   "execution_count": 84,
   "metadata": {},
   "outputs": [
    {
     "data": {
      "text/plain": "(-a + c)⋅(-b + c)",
      "image/png": "[encoded data removed]",
      "text/latex": "$\\displaystyle \\left(- a + c\\right) \\left(- b + c\\right)$"
     },
     "execution_count": 84,
     "metadata": {},
     "output_type": "execute_result"
    }
   ],
   "source": [
    "_.subs(x, c)"
   ]
  },
  {
   "cell_type": "code",
   "execution_count": 85,
   "metadata": {},
   "outputs": [
    {
     "data": {
      "text/plain": "(a - c)⋅(b - c)",
      "image/png": "[encoded data removed]",
      "text/latex": "$\\displaystyle \\left(a - c\\right) \\left(b - c\\right)$"
     },
     "execution_count": 85,
     "metadata": {},
     "output_type": "execute_result"
    }
   ],
   "source": [
    "sym.simplify(_)"
   ]
  },
  {
   "cell_type": "code",
   "execution_count": 86,
   "metadata": {},
   "outputs": [
    {
     "data": {
      "text/plain": "  n     \n ___    \n ╲      \n  ╲    i\n  ╱   x \n ╱      \n ‾‾‾    \ni = 1   ",
      "image/png": "[encoded data removed]",
      "text/latex": "$\\displaystyle \\sum_{i=1}^{n} x^{i}$"
     },
     "execution_count": 86,
     "metadata": {},
     "output_type": "execute_result"
    }
   ],
   "source": [
    "sym.Sum(x ** i, (i, 1, n))"
   ]
  },
  {
   "cell_type": "code",
   "execution_count": 87,
   "metadata": {},
   "outputs": [
    {
     "data": {
      "text/plain": "⎧    n       for x = 1\n⎪                     \n⎪     n + 1           \n⎨x - x                \n⎪──────────  otherwise\n⎪  1 - x              \n⎩                     ",
      "text/latex": "$\\displaystyle \\begin{cases} n & \\text{for}\\: x = 1 \\\\\\frac{x - x^{n + 1}}{1 - x} & \\text{otherwise} \\end{cases}$"
     },
     "execution_count": 87,
     "metadata": {},
     "output_type": "execute_result"
    }
   ],
   "source": [
    "_.doit()"
   ]
  },
  {
   "cell_type": "markdown",
   "metadata": {},
   "source": [
    "## Define Equations"
   ]
  },
  {
   "cell_type": "markdown",
   "metadata": {},
   "source": [
    "`Eq`"
   ]
  },
  {
   "cell_type": "code",
   "execution_count": 88,
   "metadata": {},
   "outputs": [
    {
     "data": {
      "text/plain": "   2          \na⋅x  + b⋅x = c",
      "image/png": "[encoded data removed]",
      "text/latex": "$\\displaystyle a x^{2} + b x = c$"
     },
     "execution_count": 88,
     "metadata": {},
     "output_type": "execute_result"
    }
   ],
   "source": [
    "sym.Eq(a * x ** 2 + b * x, c)"
   ]
  },
  {
   "cell_type": "markdown",
   "metadata": {},
   "source": [
    "## Solve Equations"
   ]
  },
  {
   "cell_type": "markdown",
   "metadata": {},
   "source": [
    "`solve`"
   ]
  },
  {
   "cell_type": "code",
   "execution_count": 89,
   "metadata": {},
   "outputs": [
    {
     "data": {
      "text/plain": "   2          \na⋅x  + b⋅x + c",
      "image/png": "[encoded data removed]",
      "text/latex": "$\\displaystyle a x^{2} + b x + c$"
     },
     "execution_count": 89,
     "metadata": {},
     "output_type": "execute_result"
    }
   ],
   "source": [
    "a * x ** 2 + b * x + c"
   ]
  },
  {
   "cell_type": "code",
   "execution_count": 90,
   "metadata": {},
   "outputs": [
    {
     "data": {
      "text/plain": "⎡        _____________          _____________⎤\n⎢       ╱           2          ╱           2 ⎥\n⎢-b - ╲╱  -4⋅a⋅c + b    -b + ╲╱  -4⋅a⋅c + b  ⎥\n⎢─────────────────────, ─────────────────────⎥\n⎣         2⋅a                    2⋅a         ⎦",
      "image/png": "[encoded data removed]",
      "text/latex": "$\\displaystyle \\left[ \\frac{- b - \\sqrt{- 4 a c + b^{2}}}{2 a}, \\  \\frac{- b + \\sqrt{- 4 a c + b^{2}}}{2 a}\\right]$"
     },
     "execution_count": 90,
     "metadata": {},
     "output_type": "execute_result"
    }
   ],
   "source": [
    "sym.solve(_, x)"
   ]
  },
  {
   "cell_type": "markdown",
   "metadata": {},
   "source": [
    "## Solve Systems of Equations"
   ]
  },
  {
   "cell_type": "code",
   "execution_count": 91,
   "metadata": {},
   "outputs": [],
   "source": [
    "z = sym.symbols(\"z_{0:2}\")"
   ]
  },
  {
   "cell_type": "code",
   "execution_count": 92,
   "metadata": {},
   "outputs": [
    {
     "data": {
      "text/plain": "⎡⎧                __________                  __________⎫  ⎧                __\n⎢⎪               ╱  2                        ╱  2       ⎪  ⎪               ╱  \n⎢⎨         a   ╲╱  a  + 4⋅b            a   ╲╱  a  + 4⋅b ⎬  ⎨         a   ╲╱  a\n⎢⎪z_{0}: - ─ - ─────────────, z_{1}: - ─ + ─────────────⎪, ⎪z_{0}: - ─ + ─────\n⎣⎩         2         2                 2         2      ⎭  ⎩         2        \n\n________                  __________⎫⎤\n2                        ╱  2       ⎪⎥\n  + 4⋅b            a   ╲╱  a  + 4⋅b ⎬⎥\n────────, z_{1}: - ─ - ─────────────⎪⎥\n 2                 2         2      ⎭⎦",
      "image/png": "[encoded data removed]",
      "text/latex": "$\\displaystyle \\left[ \\left\\{ z_{0} : - \\frac{a}{2} - \\frac{\\sqrt{a^{2} + 4 b}}{2}, \\  z_{1} : - \\frac{a}{2} + \\frac{\\sqrt{a^{2} + 4 b}}{2}\\right\\}, \\  \\left\\{ z_{0} : - \\frac{a}{2} + \\frac{\\sqrt{a^{2} + 4 b}}{2}, \\  z_{1} : - \\frac{a}{2} - \\frac{\\sqrt{a^{2} + 4 b}}{2}\\right\\}\\right]$"
     },
     "execution_count": 92,
     "metadata": {},
     "output_type": "execute_result"
    }
   ],
   "source": [
    "sym.solve([z[0] + z[1] + a, z[0] * z[1] + b], z, dict=True)"
   ]
  },
  {
   "cell_type": "markdown",
   "metadata": {},
   "source": [
    "## Solve Recurrence Relations"
   ]
  },
  {
   "cell_type": "markdown",
   "metadata": {},
   "source": [
    "`rsolve`"
   ]
  },
  {
   "cell_type": "markdown",
   "metadata": {},
   "source": [
    "$$\n",
    "\\begin{aligned}\n",
    "y_0&=1, \\\\\n",
    "y_1&=4, \\\\\n",
    "y_n &= 2y_{n-1} + 5y_{n-2}\n",
    "\\end{aligned}\n",
    "$$"
   ]
  },
  {
   "cell_type": "code",
   "execution_count": 93,
   "metadata": {},
   "outputs": [
    {
     "data": {
      "text/plain": "⎛1   √6⎞         n   ⎛1   √6⎞         n\n⎜─ - ──⎟⋅(1 - √6)  + ⎜─ + ──⎟⋅(1 + √6) \n⎝2   4 ⎠             ⎝2   4 ⎠          ",
      "image/png": "[encoded data removed]",
      "text/latex": "$\\displaystyle \\left(\\frac{1}{2} - \\frac{\\sqrt{6}}{4}\\right) \\left(1 - \\sqrt{6}\\right)^{n} + \\left(\\frac{1}{2} + \\frac{\\sqrt{6}}{4}\\right) \\left(1 + \\sqrt{6}\\right)^{n}$"
     },
     "execution_count": 93,
     "metadata": {},
     "output_type": "execute_result"
    }
   ],
   "source": [
    "y = sym.Function('y')\n",
    "f = y(n) - 2 * y(n - 1) - 5 * y(n - 2)\n",
    "sym.rsolve(f, y(n), [1, 4])"
   ]
  },
  {
   "cell_type": "markdown",
   "metadata": {},
   "source": [
    "## Differential Calculus"
   ]
  },
  {
   "cell_type": "markdown",
   "metadata": {},
   "source": [
    "`limit`, `series`, `diff`, `integrate`, `Derivative`, `Integral`"
   ]
  },
  {
   "cell_type": "code",
   "execution_count": 94,
   "metadata": {},
   "outputs": [
    {
     "data": {
      "text/plain": "1\n─\nx",
      "image/png": "[encoded data removed]",
      "text/latex": "$\\displaystyle \\frac{1}{x}$"
     },
     "execution_count": 94,
     "metadata": {},
     "output_type": "execute_result"
    }
   ],
   "source": [
    "sym.diff(sym.log(x))"
   ]
  },
  {
   "cell_type": "code",
   "execution_count": 95,
   "metadata": {},
   "outputs": [
    {
     "data": {
      "text/plain": "                         ⎛2⋅√3⋅x   √3⎞\n   ⎛ 2        ⎞   √3⋅atan⎜────── + ──⎟\nlog⎝x  + x + 1⎠          ⎝  3      3 ⎠\n─────────────── + ────────────────────\n       2                   3          ",
      "image/png": "[encoded data removed]",
      "text/latex": "$\\displaystyle \\frac{\\log{\\left(x^{2} + x + 1 \\right)}}{2} + \\frac{\\sqrt{3} \\operatorname{atan}{\\left(\\frac{2 \\sqrt{3} x}{3} + \\frac{\\sqrt{3}}{3} \\right)}}{3}$"
     },
     "execution_count": 95,
     "metadata": {},
     "output_type": "execute_result"
    }
   ],
   "source": [
    "sym.integrate((x ** 2 - 1) / (x ** 3 - 1))"
   ]
  },
  {
   "cell_type": "code",
   "execution_count": 96,
   "metadata": {},
   "outputs": [
    {
     "data": {
      "text/plain": "√3⋅π   log(3)\n──── + ──────\n 18      2   ",
      "image/png": "[encoded data removed]",
      "text/latex": "$\\displaystyle \\frac{\\sqrt{3} \\pi}{18} + \\frac{\\log{\\left(3 \\right)}}{2}$"
     },
     "execution_count": 96,
     "metadata": {},
     "output_type": "execute_result"
    }
   ],
   "source": [
    "sym.integrate((x ** 2 - 1) / (x ** 3 - 1), (x, 0, 1))"
   ]
  },
  {
   "cell_type": "code",
   "execution_count": 97,
   "metadata": {},
   "outputs": [
    {
     "data": {
      "text/plain": "     3     5        \n    x     x     ⎛ 6⎞\nx - ── + ─── + O⎝x ⎠\n    6    120        ",
      "image/png": "[encoded data removed]",
      "text/latex": "$\\displaystyle x - \\frac{x^{3}}{6} + \\frac{x^{5}}{120} + O\\left(x^{6}\\right)$"
     },
     "execution_count": 97,
     "metadata": {},
     "output_type": "execute_result"
    }
   ],
   "source": [
    "sym.series(sym.sin(x), x)"
   ]
  },
  {
   "cell_type": "code",
   "execution_count": 98,
   "metadata": {},
   "outputs": [
    {
     "data": {
      "text/plain": "1",
      "image/png": "[encoded data removed]",
      "text/latex": "$\\displaystyle 1$"
     },
     "execution_count": 98,
     "metadata": {},
     "output_type": "execute_result"
    }
   ],
   "source": [
    "sym.limit(sym.sin(x) / x, x, 0)"
   ]
  },
  {
   "cell_type": "markdown",
   "metadata": {},
   "source": [
    "## Solve Differential Equations"
   ]
  },
  {
   "cell_type": "markdown",
   "metadata": {},
   "source": [
    "`dsolve`"
   ]
  },
  {
   "cell_type": "code",
   "execution_count": 99,
   "metadata": {},
   "outputs": [],
   "source": [
    "f = sym.Function(\"f\")"
   ]
  },
  {
   "cell_type": "code",
   "execution_count": 100,
   "metadata": {},
   "outputs": [
    {
     "data": {
      "text/plain": "                            2      \n  d                        d       \na⋅──(f(x)) + b⋅f(x) + c + ───(f(x))\n  dx                        2      \n                          dx       ",
      "image/png": "[encoded data removed]",
      "text/latex": "$\\displaystyle a \\frac{d}{d x} f{\\left(x \\right)} + b f{\\left(x \\right)} + c + \\frac{d^{2}}{d x^{2}} f{\\left(x \\right)}$"
     },
     "execution_count": 100,
     "metadata": {},
     "output_type": "execute_result"
    }
   ],
   "source": [
    "sym.diff(f(x), x, 2) + a * sym.diff(f(x), x) + b * f(x) + c"
   ]
  },
  {
   "cell_type": "code",
   "execution_count": 101,
   "metadata": {},
   "outputs": [
    {
     "data": {
      "text/plain": "             ⎛        __________⎞          ⎛       __________⎞     \n             ⎜       ╱  2       ⎟          ⎜      ╱  2       ⎟     \n           x⋅⎝-a + ╲╱  a  - 4⋅b ⎠       -x⋅⎝a + ╲╱  a  - 4⋅b ⎠     \n           ──────────────────────       ───────────────────────    \n                     2                             2              c\nf(x) = C₁⋅ℯ                       + C₂⋅ℯ                        - ─\n                                                                  b",
      "image/png": "[encoded data removed]",
      "text/latex": "$\\displaystyle f{\\left(x \\right)} = C_{1} e^{\\frac{x \\left(- a + \\sqrt{a^{2} - 4 b}\\right)}{2}} + C_{2} e^{- \\frac{x \\left(a + \\sqrt{a^{2} - 4 b}\\right)}{2}} - \\frac{c}{b}$"
     },
     "execution_count": 101,
     "metadata": {},
     "output_type": "execute_result"
    }
   ],
   "source": [
    "sym.dsolve(_)"
   ]
  },
  {
   "cell_type": "code",
   "execution_count": 101,
   "metadata": {},
   "outputs": [],
   "source": []
  }
 ],
 "metadata": {
  "@webio": {
   "lastCommId": null,
   "lastKernelId": null
  },
  "kernelspec": {
   "display_name": "Python 3",
   "language": "python",
   "name": "python3"
  },
  "language_info": {
   "codemirror_mode": {
    "name": "ipython",
    "version": 3
   },
   "file_extension": ".py",
   "mimetype": "text/x-python",
   "name": "python",
   "nbconvert_exporter": "python",
   "pygments_lexer": "ipython3",
   "version": "3.7.3"
  }
 },
 "nbformat": 4,
 "nbformat_minor": 2
}
