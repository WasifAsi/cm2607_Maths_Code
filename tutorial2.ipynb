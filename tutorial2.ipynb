{
 "cells": [
  {
   "cell_type": "code",
   "execution_count": 1,
   "metadata": {
    "collapsed": true
   },
   "outputs": [],
   "source": [
    "# when using the package it is always better to import under an alias.\n",
    "# there are functions with the same name when using with numpy and can cause\n",
    "# conflicts and confusion.\n",
    "import sympy as sym"
   ]
  },
  {
   "cell_type": "code",
   "execution_count": 2,
   "outputs": [],
   "source": [
    "# defines x as a symbol.\n",
    "x = sym.symbols('x')"
   ],
   "metadata": {
    "collapsed": false
   }
  },
  {
   "cell_type": "code",
   "execution_count": 3,
   "outputs": [
    {
     "data": {
      "text/plain": "2*x + 5",
      "text/latex": "$\\displaystyle 2 x + 5$"
     },
     "execution_count": 3,
     "metadata": {},
     "output_type": "execute_result"
    }
   ],
   "source": [
    "# defines an equation in x, the symbol we defined before.\n",
    "eq = 2 * x + 5\n",
    "eq"
   ],
   "metadata": {
    "collapsed": false
   }
  },
  {
   "cell_type": "code",
   "execution_count": 4,
   "outputs": [
    {
     "data": {
      "text/plain": "7",
      "text/latex": "$\\displaystyle 7$"
     },
     "execution_count": 4,
     "metadata": {},
     "output_type": "execute_result"
    }
   ],
   "source": [
    "# substitutes x = 1 in equation defined earlier.\n",
    "eq.subs(x, 1)"
   ],
   "metadata": {
    "collapsed": false
   }
  },
  {
   "cell_type": "code",
   "execution_count": 5,
   "outputs": [
    {
     "data": {
      "text/plain": "9",
      "text/latex": "$\\displaystyle 9$"
     },
     "execution_count": 5,
     "metadata": {},
     "output_type": "execute_result"
    }
   ],
   "source": [
    "# substitutes x = 2 in equation defined earlier.\n",
    "eq.subs(x, 2)"
   ],
   "metadata": {
    "collapsed": false
   }
  },
  {
   "cell_type": "code",
   "execution_count": 6,
   "outputs": [
    {
     "data": {
      "text/plain": "2*x + 3*y + 4*z",
      "text/latex": "$\\displaystyle 2 x + 3 y + 4 z$"
     },
     "execution_count": 6,
     "metadata": {},
     "output_type": "execute_result"
    }
   ],
   "source": [
    "# define multiple symbols\n",
    "x, y, z = sym.symbols('x,y,z')\n",
    "eq1 = 2 * x + 3 * y + 4 * z\n",
    "eq1"
   ],
   "metadata": {
    "collapsed": false
   }
  },
  {
   "cell_type": "code",
   "execution_count": 7,
   "outputs": [
    {
     "data": {
      "text/plain": "2*x + 4*z + 3",
      "text/latex": "$\\displaystyle 2 x + 4 z + 3$"
     },
     "execution_count": 7,
     "metadata": {},
     "output_type": "execute_result"
    }
   ],
   "source": [
    "eq2 = eq1.subs(y, 1)\n",
    "eq2"
   ],
   "metadata": {
    "collapsed": false
   }
  },
  {
   "cell_type": "code",
   "execution_count": 8,
   "outputs": [
    {
     "data": {
      "text/plain": "9",
      "text/latex": "$\\displaystyle 9$"
     },
     "execution_count": 8,
     "metadata": {},
     "output_type": "execute_result"
    }
   ],
   "source": [
    "# It is also possible to substitute multiple variables at once:\n",
    "# substitute x = y = z = 1\n",
    "# pay attention to the format for multiple substitution\n",
    "eq1.subs([(x, 1), (y, 1), (z, 1)])"
   ],
   "metadata": {
    "collapsed": false
   }
  },
  {
   "cell_type": "code",
   "execution_count": 36,
   "outputs": [
    {
     "data": {
      "text/plain": "4*z + 5",
      "text/latex": "$\\displaystyle 4 z + 5$"
     },
     "execution_count": 36,
     "metadata": {},
     "output_type": "execute_result"
    }
   ],
   "source": [
    "# You do not have to substitute all the variables\n",
    "eqZ = eq1.subs([(x, 1), (y, 1)])\n",
    "eqZ"
   ],
   "metadata": {
    "collapsed": false
   }
  },
  {
   "cell_type": "code",
   "execution_count": 35,
   "outputs": [
    {
     "data": {
      "text/plain": "[-5/4]"
     },
     "execution_count": 35,
     "metadata": {},
     "output_type": "execute_result"
    }
   ],
   "source": [
    "# You can solve for the remaining variable\n",
    "sym.solve(eqZ, z)"
   ],
   "metadata": {
    "collapsed": false
   }
  },
  {
   "cell_type": "code",
   "execution_count": 17,
   "outputs": [
    {
     "data": {
      "text/plain": "[-5/2]"
     },
     "execution_count": 17,
     "metadata": {},
     "output_type": "execute_result"
    }
   ],
   "source": [
    "# solve the first equation (2x + 5 = 0) for x\n",
    "sym.solve(eq, x)"
   ],
   "metadata": {
    "collapsed": false
   }
  },
  {
   "cell_type": "code",
   "execution_count": 16,
   "outputs": [
    {
     "data": {
      "text/plain": "[-3/2]"
     },
     "execution_count": 16,
     "metadata": {},
     "output_type": "execute_result"
    }
   ],
   "source": [
    "# solve (2x + 5 = 2) for x\n",
    "# 2x + 5 - 2 = 0\n",
    "sym.solve(eq - 2, x)\n"
   ],
   "metadata": {
    "collapsed": false
   }
  },
  {
   "cell_type": "code",
   "execution_count": 19,
   "outputs": [
    {
     "data": {
      "text/plain": "{x: 2, y: 3}"
     },
     "execution_count": 19,
     "metadata": {},
     "output_type": "execute_result"
    }
   ],
   "source": [
    "# define simultaneous equations\n",
    "# 2x + 3y = 13 => 2x + 3y - 13 = 0\n",
    "# 3x - 5y = -9 => 3x - 5y + 9 = 0\n",
    "eq_a = 2 * x + 3 * y - 13\n",
    "eq_b = 3 * x - 5 * y + 9\n",
    "# solve\n",
    "sym.solve([eq_a, eq_b], (x, y))"
   ],
   "metadata": {
    "collapsed": false
   }
  },
  {
   "cell_type": "code",
   "execution_count": 20,
   "outputs": [
    {
     "data": {
      "text/plain": "3*x**2 - 5*x - 2",
      "text/latex": "$\\displaystyle 3 x^{2} - 5 x - 2$"
     },
     "execution_count": 20,
     "metadata": {},
     "output_type": "execute_result"
    }
   ],
   "source": [
    "# Differentiation:\n",
    "eq_c = 3 * x ** 2 - 5 * x - 2\n",
    "eq_c"
   ],
   "metadata": {
    "collapsed": false
   }
  },
  {
   "cell_type": "code",
   "execution_count": 23,
   "outputs": [
    {
     "data": {
      "text/plain": "6*x - 5",
      "text/latex": "$\\displaystyle 6 x - 5$"
     },
     "execution_count": 23,
     "metadata": {},
     "output_type": "execute_result"
    }
   ],
   "source": [
    "# differentiate with respect to x\n",
    "eq_diff = sym.diff(eq_c, x)\n",
    "eq_diff"
   ],
   "metadata": {
    "collapsed": false
   }
  },
  {
   "cell_type": "code",
   "execution_count": 25,
   "outputs": [
    {
     "data": {
      "text/plain": "0",
      "text/latex": "$\\displaystyle 0$"
     },
     "execution_count": 25,
     "metadata": {},
     "output_type": "execute_result"
    }
   ],
   "source": [
    "# This differentiates the equation with respect to x.\n",
    "# It is also possible to apply higher order differentiation. It can be done in one of two ways:\n",
    "# 2nd order differentiation\n",
    "eq_diff_2ndOrder = sym.diff(eq, x, x)\n",
    "eq_diff_2ndOrder"
   ],
   "metadata": {
    "collapsed": false
   }
  },
  {
   "cell_type": "code",
   "execution_count": 28,
   "outputs": [
    {
     "data": {
      "text/plain": "0",
      "text/latex": "$\\displaystyle 0$"
     },
     "execution_count": 28,
     "metadata": {},
     "output_type": "execute_result"
    }
   ],
   "source": [
    "# does the same thing, but more convenient for higher orders\n",
    "eq_diff_2ndOrder = sym.diff(eq, x, 2)\n",
    "eq_diff_2ndOrder"
   ],
   "metadata": {
    "collapsed": false
   }
  }
 ],
 "metadata": {
  "kernelspec": {
   "display_name": "Python 3",
   "language": "python",
   "name": "python3"
  },
  "language_info": {
   "codemirror_mode": {
    "name": "ipython",
    "version": 2
   },
   "file_extension": ".py",
   "mimetype": "text/x-python",
   "name": "python",
   "nbconvert_exporter": "python",
   "pygments_lexer": "ipython2",
   "version": "2.7.6"
  }
 },
 "nbformat": 4,
 "nbformat_minor": 0
}
